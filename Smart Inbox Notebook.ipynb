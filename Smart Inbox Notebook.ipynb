{
 "cells": [
  {
   "cell_type": "markdown",
   "metadata": {},
   "source": [
    "# Smart Inbox"
   ]
  },
  {
   "cell_type": "code",
   "execution_count": 1,
   "metadata": {},
   "outputs": [],
   "source": [
    "import numpy as np \n",
    "import pandas as pd \n",
    "import seaborn as sns \n",
    "import matplotlib.pyplot as plt\n",
    "import os\n",
    "\n",
    "# GUI Dependencies importation\n",
    "from tkinter import filedialog\n",
    "\n",
    "from sklearn.metrics import confusion_matrix, f1_score\n",
    "from sklearn.feature_extraction.text import TfidfVectorizer\n",
    "from sklearn.model_selection import train_test_split\n",
    "\n",
    "# Machine Learning models importation\n",
    "from sklearn.naive_bayes import BernoulliNB\n",
    "from sklearn.linear_model import LogisticRegression"
   ]
  },
  {
   "cell_type": "code",
   "execution_count": 2,
   "metadata": {},
   "outputs": [
    {
     "name": "stdout",
     "output_type": "stream",
     "text": [
      "                                                   text  spam\n",
      "0     Subject: naturally irresistible your corporate...   1.0\n",
      "1     Subject: the stock trading gunslinger  fanny i...   1.0\n",
      "2     Subject: unbelievable new homes made easy  im ...   1.0\n",
      "3     Subject: 4 color printing special  request add...   1.0\n",
      "4     Subject: do not have money , get software cds ...   1.0\n",
      "...                                                 ...   ...\n",
      "5725  Subject: re : research and development charges...   0.0\n",
      "5726  Subject: re : receipts from visit  jim ,  than...   0.0\n",
      "5727  Subject: re : enron case study update  wow ! a...   0.0\n",
      "5728  Subject: re : interest  david ,  please , call...   0.0\n",
      "5729  Subject: news : aurora 5 . 2 update  aurora ve...   0.0\n",
      "\n",
      "[5730 rows x 2 columns]\n"
     ]
    }
   ],
   "source": [
    "# Prompt the user to select a file using a file dialog and read the selected CSV file into a pandas DataFrame\n",
    "dataset = filedialog.askopenfile()\n",
    "dataframe = pd.read_csv(dataset)\n",
    "print(dataframe)"
   ]
  },
  {
   "cell_type": "markdown",
   "metadata": {},
   "source": [
    "## Dataframe preprocessing\n",
    "\n",
    "At first this code selects only the first two columns of the Dataframe, and then drops duplicate rows from the DataFrame and modifies it in-place to remove all the rows from the DataFrame that contains missing values (NaN)."
   ]
  },
  {
   "cell_type": "code",
   "execution_count": 3,
   "metadata": {},
   "outputs": [],
   "source": [
    "# Remove rows with missing values (NaN) from the DataFrame\n",
    "dataframe = dataframe.dropna()\n",
    "\n",
    "# # Keep only the first two columns of the DataFrame\n",
    "# dataframe = dataframe.iloc[:, :2]\n",
    "\n",
    "# # Drop duplicate rows from the DataFrame (modify it in-place)\n",
    "# dataframe.drop_duplicates(inplace=True)"
   ]
  },
  {
   "cell_type": "code",
   "execution_count": 4,
   "metadata": {},
   "outputs": [
    {
     "data": {
      "image/png": "[encoded data removed]",
      "text/plain": [
       "<Figure size 432x288 with 1 Axes>"
      ]
     },
     "metadata": {
      "needs_background": "light"
     },
     "output_type": "display_data"
    }
   ],
   "source": [
    "counts = dataframe['spam'].value_counts()\n",
    "\n",
    "# Create a bar chart using the counts\n",
    "plt.bar(counts.index, counts.values)\n",
    "\n",
    "# Add labels and title to the chart\n",
    "plt.xlabel('spam')\n",
    "plt.ylabel('Count')\n",
    "plt.title('Distribution of Labels')\n",
    "\n",
    "# Display the chart\n",
    "plt.show()"
   ]
  },
  {
   "cell_type": "code",
   "execution_count": 5,
   "metadata": {},
   "outputs": [
    {
     "name": "stdout",
     "output_type": "stream",
     "text": [
      "0       Subject: naturally irresistible your corporate...\n",
      "1       Subject: the stock trading gunslinger  fanny i...\n",
      "2       Subject: unbelievable new homes made easy  im ...\n",
      "3       Subject: 4 color printing special  request add...\n",
      "4       Subject: do not have money , get software cds ...\n",
      "                              ...                        \n",
      "5725    Subject: re : research and development charges...\n",
      "5726    Subject: re : receipts from visit  jim ,  than...\n",
      "5727    Subject: re : enron case study update  wow ! a...\n",
      "5728    Subject: re : interest  david ,  please , call...\n",
      "5729    Subject: news : aurora 5 . 2 update  aurora ve...\n",
      "Name: text, Length: 5726, dtype: object\n"
     ]
    }
   ],
   "source": [
    "x, y = dataframe['text'], dataframe['spam']\n",
    "print(x)"
   ]
  },
  {
   "cell_type": "markdown",
   "metadata": {},
   "source": [
    "## Create Training and Testing datasets"
   ]
  },
  {
   "cell_type": "code",
   "execution_count": 6,
   "metadata": {},
   "outputs": [],
   "source": [
    "xtrain, xtest, ytrain, ytest = train_test_split(x, y, test_size=0.3, random_state = 1)"
   ]
  },
  {
   "cell_type": "markdown",
   "metadata": {},
   "source": [
    "## Naive Bayes Model\n",
    "\n",
    "In the context of spam email detection, BernoulliNB would be appropriate if you are representing features as binary indicators. \n",
    "\n",
    "Naive Bayes models assume the prior probabilities of classes are proportional to their frequencies in the training set.Setting fit_prior=False forces uniform prior probabilities for all classes."
   ]
  },
  {
   "cell_type": "code",
   "execution_count": 7,
   "metadata": {},
   "outputs": [],
   "source": [
    "# Create an instance of the TF-IDF vectorizer\n",
    "vectorizer = TfidfVectorizer()\n",
    "\n",
    "# Convert the text data into numerical vectors\n",
    "xtrain_vectorized = vectorizer.fit_transform(xtrain)\n",
    "xtest_vectorized = vectorizer.transform(xtest)\n",
    "\n",
    "# Create an instance of the Bernoulli Naive Bayes model\n",
    "naive_bayes_model = BernoulliNB()\n",
    "\n",
    "# Fit the model to the vectorized training data\n",
    "naive_bayes_model.fit(xtrain_vectorized, ytrain)\n",
    "y_pred = naive_bayes_model.predict(xtest_vectorized)"
   ]
  },
  {
   "cell_type": "code",
   "execution_count": 8,
   "metadata": {},
   "outputs": [],
   "source": [
    "# Create an instance of the Bernoulli Naive Bayes model\n",
    "naive_bayes_model = BernoulliNB()\n",
    "\n",
    "# Fit the model to the vectorized training data\n",
    "naive_bayes_model.fit(xtrain_vectorized, ytrain)\n",
    "y_pred = naive_bayes_model.predict(xtest_vectorized)"
   ]
  },
  {
   "cell_type": "code",
   "execution_count": 9,
   "metadata": {},
   "outputs": [
    {
     "data": {
      "image/png": "[encoded data removed]",
      "text/plain": [
       "<Figure size 576x432 with 1 Axes>"
      ]
     },
     "metadata": {
      "needs_background": "light"
     },
     "output_type": "display_data"
    }
   ],
   "source": [
    "cm = confusion_matrix(ytest, y_pred)\n",
    "\n",
    "# Plot the confusion matrix\n",
    "plt.figure(figsize=(8, 6))\n",
    "sns.heatmap(cm, annot=True, cmap='Blues', fmt='g', cbar=False)\n",
    "plt.xlabel('Predicted labels')\n",
    "plt.ylabel('True labels')\n",
    "plt.title('Confusion Matrix')\n",
    "plt.show()"
   ]
  },
  {
   "cell_type": "code",
   "execution_count": 10,
   "metadata": {},
   "outputs": [
    {
     "name": "stdout",
     "output_type": "stream",
     "text": [
      "F1 Score: 0.9788819875776397\n",
      "Accuracy: 1.0\n"
     ]
    }
   ],
   "source": [
    "# Predict the labels for the test data\n",
    "y_pred = naive_bayes_model.predict(xtest_vectorized)\n",
    "val_accuracy = naive_bayes_model.score(xtest_vectorized, y_pred)\n",
    "\n",
    "# Calculate the F1 score\n",
    "f1 = f1_score(ytest, y_pred)\n",
    "\n",
    "print(\"F1 Score:\", f1)\n",
    "print(\"Accuracy:\", val_accuracy)"
   ]
  }
 ],
 "metadata": {
  "kernelspec": {
   "display_name": "Python 3 (ipykernel)",
   "language": "python",
   "name": "python3"
  },
  "language_info": {
   "codemirror_mode": {
    "name": "ipython",
    "version": 3
   },
   "file_extension": ".py",
   "mimetype": "text/x-python",
   "name": "python",
   "nbconvert_exporter": "python",
   "pygments_lexer": "ipython3",
   "version": "3.9.12"
  }
 },
 "nbformat": 4,
 "nbformat_minor": 4
}
